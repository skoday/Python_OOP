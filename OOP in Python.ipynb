{
 "cells": [
  {
   "cell_type": "markdown",
   "id": "31317ee9",
   "metadata": {},
   "source": [
    "# <center>OOP Python</center>"
   ]
  },
  {
   "cell_type": "markdown",
   "id": "e17e6a30",
   "metadata": {},
   "source": [
    "**Why classes?**\n",
    "\n",
    "OOP is useful to ligically group our data and functions in a way that's easy to reuse and build upon if needed.\n",
    "\n",
    "Note: Data and functions associated with a specific class are attributes and methods."
   ]
  },
  {
   "cell_type": "markdown",
   "id": "84ccb1cc",
   "metadata": {},
   "source": [
    "**Creating a class**:\n",
    "To define a class we use the **class** keyword as in the first example, but only that structure will get us an error so if we want to leave a class without implementation for the time being we can just simply add the **pass** keyword, this tells python that you want to skip the that for now."
   ]
  },
  {
   "cell_type": "code",
   "execution_count": 2,
   "id": "04221121",
   "metadata": {},
   "outputs": [],
   "source": [
    "class Employee:\n",
    "    pass"
   ]
  },
  {
   "cell_type": "markdown",
   "id": "859cad34",
   "metadata": {},
   "source": [
    "**Instance**\n",
    "A class is baically a footprint for creating instances and every employee would be a instance of that class.  "
   ]
  },
  {
   "cell_type": "code",
   "execution_count": 6,
   "id": "4bb1d209",
   "metadata": {},
   "outputs": [],
   "source": [
    "#Instantiate a class\n",
    "\n",
    "#There ase called instance variables\n",
    "emp_1 = Employee()\n",
    "emp_2 = Employee()"
   ]
  },
  {
   "cell_type": "markdown",
   "id": "05fe36f4",
   "metadata": {},
   "source": [
    "Now ther are instances and they're located in different memmory sections"
   ]
  },
  {
   "cell_type": "code",
   "execution_count": 7,
   "id": "4a9d56d7",
   "metadata": {},
   "outputs": [
    {
     "name": "stdout",
     "output_type": "stream",
     "text": [
      "<__main__.Employee object at 0x0000013F54979490>\n",
      "<__main__.Employee object at 0x0000013F549796D0>\n"
     ]
    }
   ],
   "source": [
    "print(emp_1)\n",
    "print(emp_2)"
   ]
  },
  {
   "cell_type": "markdown",
   "id": "d2ae7444",
   "metadata": {},
   "source": [
    "Now even though we didn't create class avariables (attributes) in our employee class we can adda attributes to our instances"
   ]
  },
  {
   "cell_type": "code",
   "execution_count": 9,
   "id": "b1168a53",
   "metadata": {},
   "outputs": [],
   "source": [
    "emp_1.name = \"name\"\n",
    "emp_1.email = \"email@gmail.com\"\n",
    "\n",
    "emp_2.name = \"another\"\n",
    "emp_2.last = \"name\"\n",
    "emp_2.email = \"another@gmail.com\""
   ]
  },
  {
   "cell_type": "code",
   "execution_count": 11,
   "id": "ad0f64c2",
   "metadata": {},
   "outputs": [
    {
     "name": "stdout",
     "output_type": "stream",
     "text": [
      "email@gmail.com\n",
      "another@gmail.com\n"
     ]
    }
   ],
   "source": [
    "print(emp_1.email)\n",
    "print(emp_2.email)"
   ]
  },
  {
   "cell_type": "markdown",
   "id": "c06dd5a7",
   "metadata": {},
   "source": [
    "Doing thing this way isn't handy and would not make the most of classes so in order to add those atrbiutes to each instance we add a init methos"
   ]
  },
  {
   "cell_type": "code",
   "execution_count": 14,
   "id": "c81f7def",
   "metadata": {},
   "outputs": [],
   "source": [
    "class Employee:\n",
    "    \"\"\"\n",
    "    The init method is the constructor, so they can also initialize our variables\n",
    "    \n",
    "    We we create a methods within a class they recive the instance as the first argument\n",
    "    automatically and by convention we should call that instance self. and also we can specify what other arguments\n",
    "    we want to except\n",
    "    \"\"\"\n",
    "    def __init__(self, first, last, pay):\n",
    "        # Now we can set the instance variables:\n",
    "        self.first = first\n",
    "        self.last = last\n",
    "        self.pay = pay\n",
    "        self.email = first+\".\"+last+\"@example.com\""
   ]
  },
  {
   "cell_type": "markdown",
   "id": "74594bde",
   "metadata": {},
   "source": [
    "Now when creating new instances we pass in the values we set in our construnctor (init method) avouiding the instance couase it'll pass in the instances automatically\n"
   ]
  },
  {
   "cell_type": "code",
   "execution_count": 22,
   "id": "4e6c36a9",
   "metadata": {},
   "outputs": [],
   "source": [
    "em = Employee(\"Nestor\", \"Martinez\", 1000)\n",
    "em1 = Employee(\"User\", \"test\", 1000)"
   ]
  },
  {
   "cell_type": "code",
   "execution_count": 25,
   "id": "69d5f2d3",
   "metadata": {},
   "outputs": [
    {
     "name": "stdout",
     "output_type": "stream",
     "text": [
      "Nestor\n",
      "Nestor.Martinez@example.com\n"
     ]
    }
   ],
   "source": [
    "print(em.first)\n",
    "print(em.email)"
   ]
  },
  {
   "cell_type": "markdown",
   "id": "11afbb0c",
   "metadata": {},
   "source": [
    "We can now add methods, that are actions we want our instances to perfrom, and we add them into de the class"
   ]
  },
  {
   "cell_type": "code",
   "execution_count": 45,
   "id": "8905cd7a",
   "metadata": {},
   "outputs": [],
   "source": [
    "class Employee:\n",
    "    \"\"\"\n",
    "    The init method is the constructor, so they can also initialize our variables\n",
    "    \n",
    "    We we create a methods within a class they recive the instance as the first argument\n",
    "    automatically and by convention we should call that instance self. and also we can specify what other arguments\n",
    "    we want to except\n",
    "    \"\"\"\n",
    "    def __init__(self, first, last, pay):\n",
    "        # Now we can set the instance variables:\n",
    "        self.first = first\n",
    "        self.last = last\n",
    "        self.pay = pay\n",
    "        self.email = first+\".\"+last+\"@example.com\"\n",
    "        \n",
    "    def diplayFullName(self):\n",
    "        return '{} {}'.format(self.first, self.last)"
   ]
  },
  {
   "cell_type": "code",
   "execution_count": 46,
   "id": "d39ff300",
   "metadata": {},
   "outputs": [],
   "source": [
    "em = Employee(\"Nestor\", \"Martinez\", 1000)"
   ]
  },
  {
   "cell_type": "code",
   "execution_count": 48,
   "id": "0e110e75",
   "metadata": {},
   "outputs": [
    {
     "data": {
      "text/plain": [
       "'Nestor Martinez'"
      ]
     },
     "execution_count": 48,
     "metadata": {},
     "output_type": "execute_result"
    }
   ],
   "source": [
    "em.diplayFullName()"
   ]
  },
  {
   "cell_type": "markdown",
   "id": "b36859ca",
   "metadata": {},
   "source": [
    "Thats how it works on the surface but what is going in the background is the following"
   ]
  },
  {
   "cell_type": "code",
   "execution_count": 49,
   "id": "19e3a363",
   "metadata": {},
   "outputs": [
    {
     "data": {
      "text/plain": [
       "'Nestor Martinez'"
      ]
     },
     "execution_count": 49,
     "metadata": {},
     "output_type": "execute_result"
    }
   ],
   "source": [
    "Employee.diplayFullName(em)"
   ]
  },
  {
   "cell_type": "markdown",
   "id": "bba98771",
   "metadata": {},
   "source": [
    "### Classs Variables\n",
    "\n",
    "In Python, class variables are variables that belong to the class itself rather than to any specific instance of the class. They are shared among all instances of the class. This means that when you modify the value of a class variable, that change is reflected in all instances of the class."
   ]
  },
  {
   "cell_type": "code",
   "execution_count": 67,
   "id": "182e5bac",
   "metadata": {},
   "outputs": [],
   "source": [
    "class Employee:\n",
    "    \n",
    "    #Class varaible\n",
    "    raise_amount = 1.04\n",
    "    \n",
    "    def __init__(self, first, last, pay):\n",
    "        # Now we can set the instance variables:\n",
    "        self.first = first\n",
    "        self.last = last\n",
    "        self.pay = pay\n",
    "        self.email = first+\".\"+last+\"@example.com\"\n",
    "        \n",
    "    def diplayFullName(self):\n",
    "        return '{} {}'.format(self.first, self.last)\n",
    "    \n",
    "    def getEmployeeRaise(self):\n",
    "        \"\"\"\n",
    "        To acces to a class variable we need either acces thorugh the instances or through the class\n",
    "        In this example it would be:\n",
    "        Employee.raise_amount\n",
    "        of\n",
    "        self.raise_amount\n",
    "        \"\"\"\n",
    "        return self.pay*Employee.raise_amount"
   ]
  },
  {
   "cell_type": "code",
   "execution_count": 64,
   "id": "f8609622",
   "metadata": {},
   "outputs": [
    {
     "data": {
      "text/plain": [
       "1.04"
      ]
     },
     "execution_count": 64,
     "metadata": {},
     "output_type": "execute_result"
    }
   ],
   "source": [
    "Employee.raise_amount"
   ]
  },
  {
   "cell_type": "code",
   "execution_count": 65,
   "id": "e574c068",
   "metadata": {},
   "outputs": [],
   "source": [
    "emp1 = Employee(\"Nestor\", \"Hugo\", 2000)"
   ]
  },
  {
   "cell_type": "code",
   "execution_count": 66,
   "id": "95a96130",
   "metadata": {},
   "outputs": [
    {
     "data": {
      "text/plain": [
       "2080.0"
      ]
     },
     "execution_count": 66,
     "metadata": {},
     "output_type": "execute_result"
    }
   ],
   "source": [
    "emp1.getEmployeeRaise()"
   ]
  },
  {
   "cell_type": "markdown",
   "id": "72028f77",
   "metadata": {},
   "source": [
    "What happens here is that when we ask the instance if it contains the attribute and if it doesn't then it will see if the class or any class that it inherits contains that attribute.\n",
    "\n",
    "So when we ask the instance for the class, the instance doesn't have that attribute then acces the class attrbiute"
   ]
  },
  {
   "cell_type": "code",
   "execution_count": 70,
   "id": "6e3604a8",
   "metadata": {},
   "outputs": [
    {
     "name": "stdout",
     "output_type": "stream",
     "text": [
      "{'first': 'Nestor', 'last': 'Hugo', 'pay': 2000, 'email': 'Nestor.Hugo@example.com'}\n"
     ]
    }
   ],
   "source": [
    "print(emp1.__dict__)\n",
    "#As we can see there is no raise_amount attribute"
   ]
  },
  {
   "cell_type": "markdown",
   "id": "9056c6fe",
   "metadata": {},
   "source": [
    "If we try to change the value of a class variable from the class it'll change"
   ]
  },
  {
   "cell_type": "code",
   "execution_count": 71,
   "id": "e5b42f0d",
   "metadata": {},
   "outputs": [],
   "source": [
    "Employee.raise_amount = 1.05"
   ]
  },
  {
   "cell_type": "code",
   "execution_count": 77,
   "id": "594515a1",
   "metadata": {},
   "outputs": [
    {
     "name": "stdout",
     "output_type": "stream",
     "text": [
      "1.05\n",
      "1.05\n"
     ]
    }
   ],
   "source": [
    "print(Employee.raise_amount)\n",
    "emp1 = Employee(\"Nestor\", \"Hugo\", 2000)\n",
    "print(emp1.raise_amount)"
   ]
  },
  {
   "cell_type": "markdown",
   "id": "c72f1bc8",
   "metadata": {},
   "source": [
    "but if we were to modify the raise amount from an isntance then it will create an attribute called raise_amount"
   ]
  },
  {
   "cell_type": "code",
   "execution_count": 78,
   "id": "5ccd7eec",
   "metadata": {},
   "outputs": [],
   "source": [
    "emp1.raise_amount = 2"
   ]
  },
  {
   "cell_type": "code",
   "execution_count": 79,
   "id": "fb2ba9b6",
   "metadata": {},
   "outputs": [
    {
     "data": {
      "text/plain": [
       "{'first': 'Nestor',\n",
       " 'last': 'Hugo',\n",
       " 'pay': 2000,\n",
       " 'email': 'Nestor.Hugo@example.com',\n",
       " 'raise_amount': 2}"
      ]
     },
     "execution_count": 79,
     "metadata": {},
     "output_type": "execute_result"
    }
   ],
   "source": [
    "emp1.__dict__"
   ]
  },
  {
   "cell_type": "code",
   "execution_count": 80,
   "id": "0f7a24ef",
   "metadata": {},
   "outputs": [
    {
     "data": {
      "text/plain": [
       "mappingproxy({'__module__': '__main__',\n",
       "              'raise_amount': 1.05,\n",
       "              '__init__': <function __main__.Employee.__init__(self, first, last, pay)>,\n",
       "              'diplayFullName': <function __main__.Employee.diplayFullName(self)>,\n",
       "              'getEmployeeRaise': <function __main__.Employee.getEmployeeRaise(self)>,\n",
       "              '__dict__': <attribute '__dict__' of 'Employee' objects>,\n",
       "              '__weakref__': <attribute '__weakref__' of 'Employee' objects>,\n",
       "              '__doc__': None})"
      ]
     },
     "execution_count": 80,
     "metadata": {},
     "output_type": "execute_result"
    }
   ],
   "source": [
    "Employee.__dict__"
   ]
  },
  {
   "cell_type": "markdown",
   "id": "11c6b936",
   "metadata": {},
   "source": [
    "So if we want our raise amount to ve variable in our class we can acces it through the instance itself"
   ]
  },
  {
   "cell_type": "code",
   "execution_count": 81,
   "id": "3cec6271",
   "metadata": {},
   "outputs": [],
   "source": [
    "class Employee:\n",
    "    \n",
    "    #Class varaible\n",
    "    raise_amount = 1.04\n",
    "    \n",
    "    def __init__(self, first, last, pay):\n",
    "        # Now we can set the instance variables:\n",
    "        self.first = first\n",
    "        self.last = last\n",
    "        self.pay = pay\n",
    "        self.email = first+\".\"+last+\"@example.com\"\n",
    "        \n",
    "    def diplayFullName(self):\n",
    "        return '{} {}'.format(self.first, self.last)\n",
    "    \n",
    "    def getEmployeeRaise(self):\n",
    "        return self.pay*self.raise_amount"
   ]
  },
  {
   "cell_type": "markdown",
   "id": "194f5c35",
   "metadata": {},
   "source": [
    "This will also allow any subclass to override thatconstant if needed.\n",
    "\n",
    "Note:\n",
    "IN python this kind of variables are called class variables whereas in java the variables with same porpuse are called static variables"
   ]
  },
  {
   "cell_type": "code",
   "execution_count": null,
   "id": "c02670cf",
   "metadata": {},
   "outputs": [],
   "source": []
  }
 ],
 "metadata": {
  "kernelspec": {
   "display_name": "Python 3 (ipykernel)",
   "language": "python",
   "name": "python3"
  },
  "language_info": {
   "codemirror_mode": {
    "name": "ipython",
    "version": 3
   },
   "file_extension": ".py",
   "mimetype": "text/x-python",
   "name": "python",
   "nbconvert_exporter": "python",
   "pygments_lexer": "ipython3",
   "version": "3.11.4"
  }
 },
 "nbformat": 4,
 "nbformat_minor": 5
}
